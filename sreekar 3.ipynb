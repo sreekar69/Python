{
 "cells": [
  {
   "cell_type": "code",
   "execution_count": 8,
   "metadata": {},
   "outputs": [
    {
     "name": "stdout",
     "output_type": "stream",
     "text": [
      "True\n",
      "False\n",
      "False\n",
      "False\n",
      "False\n",
      "False\n",
      "False\n",
      "False\n",
      "sREEKAR\n",
      "SREEKAR\n",
      "True\n"
     ]
    }
   ],
   "source": [
    "s=\"Sreekar\"\n",
    "s1=\"Roshan4\"\n",
    "print(s.isalpha())\n",
    "print(s1.isalpha())\n",
    "print(s.islower())\n",
    "print(s1.islower())\n",
    "print(s.isupper())\n",
    "print(s1.isupper())\n",
    "print(s.isnumeric())\n",
    "print(s1.isnumeric())\n",
    "print(s.swapcase())\n",
    "print(s.upper())\n",
    "print(s.istitle())"
   ]
  },
  {
   "cell_type": "code",
   "execution_count": 9,
   "metadata": {},
   "outputs": [
    {
     "name": "stdout",
     "output_type": "stream",
     "text": [
      "Sreekar+ Roshan\n"
     ]
    }
   ],
   "source": [
    "s=[\"Sreekar\",\"roshan\"]\n",
    "print(\"+ \".join([\"Sreekar\",\"Roshan\"]))"
   ]
  },
  {
   "cell_type": "code",
   "execution_count": 3,
   "metadata": {},
   "outputs": [
    {
     "name": "stdout",
     "output_type": "stream",
     "text": [
      "['Sreekar', 'is', 'a', 'good', 'boy']\n"
     ]
    }
   ],
   "source": [
    "s=(\"Sreekar is a good boy\")\n",
    "print(s.split())"
   ]
  },
  {
   "cell_type": "code",
   "execution_count": 5,
   "metadata": {},
   "outputs": [
    {
     "name": "stdout",
     "output_type": "stream",
     "text": [
      "C Programming\n"
     ]
    }
   ],
   "source": [
    "s='Python Programming'ti\n",
    "print(s.replace('Python','C'))"
   ]
  },
  {
   "cell_type": "code",
   "execution_count": 11,
   "metadata": {},
   "outputs": [
    {
     "name": "stdout",
     "output_type": "stream",
     "text": [
      "Sreekar-Roshan-Sate-"
     ]
    }
   ],
   "source": [
    "t1=(\"Sreekar\",\"Roshan\",\"Sate\")\n",
    "for i in range(len(t1)):\n",
    "    print(t1[i],end=\"-\")"
   ]
  },
  {
   "cell_type": "code",
   "execution_count": 22,
   "metadata": {},
   "outputs": [
    {
     "name": "stdout",
     "output_type": "stream",
     "text": [
      "Sreekar\n"
     ]
    }
   ],
   "source": [
    "t1=(\"Sreekar\",\"Roshan\",\"Sate\")\n",
    "\n",
    "print(t1[0])"
   ]
  },
  {
   "cell_type": "code",
   "execution_count": 23,
   "metadata": {},
   "outputs": [
    {
     "name": "stdout",
     "output_type": "stream",
     "text": [
      "sreekarRoshan\n"
     ]
    }
   ],
   "source": [
    "t1=(\"sreekar\")\n",
    "t2=(\"Roshan\")\n",
    "t3=t1+t2\n",
    "print(t3)"
   ]
  },
  {
   "cell_type": "code",
   "execution_count": 26,
   "metadata": {},
   "outputs": [
    {
     "name": "stdout",
     "output_type": "stream",
     "text": [
      "4\n"
     ]
    }
   ],
   "source": [
    "t1=(\"SDASFFFF\",124,125,55)\n",
    "print(len(t1))\n"
   ]
  },
  {
   "cell_type": "code",
   "execution_count": 28,
   "metadata": {},
   "outputs": [
    {
     "name": "stdout",
     "output_type": "stream",
     "text": [
      "9\n",
      "1\n"
     ]
    }
   ],
   "source": [
    "t1=(1,1,5,9,5,2,)\n",
    "print(max(t1))\n",
    "print(min(t1))"
   ]
  },
  {
   "cell_type": "code",
   "execution_count": 29,
   "metadata": {},
   "outputs": [
    {
     "name": "stdout",
     "output_type": "stream",
     "text": [
      "('Sreekar', 'roshan')\n"
     ]
    }
   ],
   "source": [
    "l=[\"Sreekar\",\"roshan\"]\n",
    "t=tuple(l)\n",
    "print(t)"
   ]
  },
  {
   "cell_type": "code",
   "execution_count": 35,
   "metadata": {},
   "outputs": [
    {
     "name": "stdout",
     "output_type": "stream",
     "text": [
      "user1[NAME]= Sreekar\n",
      "user1[EMAIL-ID]= sreekarrr69@gmail.com\n",
      "user1[AGE]= 18\n",
      "user1[MOBILE-NUMBER]= 9989678084\n",
      "4\n",
      "{'NAME': 'Sreekar', 'AGE': '18', 'MOBILE-NUMBER': '9989678084'}\n",
      "3\n"
     ]
    }
   ],
   "source": [
    "user1={'NAME':'Sreekar','AGE':'18','EMAIL-ID':'sreekarrr69@gmail.com','MOBILE-NUMBER':'9989678084'}\n",
    "print(\"user1[NAME]=\",user1['NAME'])\n",
    "print(\"user1[EMAIL-ID]=\",user1['EMAIL-ID'])\n",
    "print(\"user1[AGE]=\",user1['AGE'])\n",
    "print(\"user1[MOBILE-NUMBER]=\",user1['MOBILE-NUMBER'])\n",
    "\n",
    "print(len(user1))\n",
    "\n",
    "del user1['EMAIL-ID']\n",
    "print(user1)\n",
    "print(len(user1))"
   ]
  },
  {
   "cell_type": "code",
   "execution_count": 47,
   "metadata": {},
   "outputs": [
    {
     "name": "stdout",
     "output_type": "stream",
     "text": [
      "{'NAME': 'Sreekar', 'AGE': '18', 'EMAIL-ID': 'sreekarrr69@gmail.com', 'MOBILE-NUMBER': '9989678084'}\n",
      "{'NAME': 'Sreekar', 'AGE': '18', 'EMAIL-ID': 'sreekarrr69@gmail.com', 'MOBILE-NUMBER': '9989678084'}\n",
      "{'NAME': 'Sreekar', 'AGE': '18', 'EMAIL-ID': 'sreekarrr69@gmail.com', 'MOBILE-NUMBER': '9989678084', 'address': 'Hyderabad'}\n",
      "{'NAME': 'Sreekar', 'AGE': '18', 'EMAIL-ID': 'sreekarrr69@gmail.com', 'MOBILE-NUMBER': '9989678084', 'address': 'Hyderabad', 'Gender': 'male'}\n",
      "dict_values(['Sreekar', '18', 'sreekarrr69@gmail.com', '9989678084', 'Hyderabad', 'male'])\n",
      "dict_items([('NAME', 'Sreekar'), ('AGE', '18'), ('EMAIL-ID', 'sreekarrr69@gmail.com'), ('MOBILE-NUMBER', '9989678084'), ('address', 'Hyderabad'), ('Gender', 'male')])\n",
      "['NAME', 'AGE', 'EMAIL-ID', 'MOBILE-NUMBER', 'address', 'Gender']\n"
     ]
    }
   ],
   "source": [
    "user1={'NAME':'Sreekar','AGE':'18','EMAIL-ID':'sreekarrr69@gmail.com','MOBILE-NUMBER':'9989678084'}\n",
    "user2=user1.copy()\n",
    "print(user1)\n",
    "print(user2)\n",
    "user1['address']='Hyderabad'\n",
    "print(user1)\n",
    "user1['Gender']='male'\n",
    "print(user1)\n",
    "print(user1.values())\n",
    "print(user1.items())\n",
    "l=list(user1)\n",
    "print(\"{0}\".format(l))"
   ]
  },
  {
   "cell_type": "code",
   "execution_count": 44,
   "metadata": {},
   "outputs": [
    {
     "name": "stdout",
     "output_type": "stream",
     "text": [
      "False\n"
     ]
    }
   ],
   "source": [
    "print('1.1'.isnumeric()"
   ]
  },
  {
   "cell_type": "code",
   "execution_count": 4,
   "metadata": {},
   "outputs": [
    {
     "name": "stdout",
     "output_type": "stream",
     "text": [
      "contact Sreekar added\n",
      "contact Roshan added\n",
      "contact Sreekar already exists\n",
      "Sreekar : 9989678084\n",
      "Roshan : 6969696969\n",
      "mohit does not exist\n",
      "Sreekar  : is deleted from contacts\n",
      "NAV not exist in contacts\n",
      "Anil not exists in contacts\n",
      "harsha not exists in contacts\n"
     ]
    }
   ],
   "source": [
    "contacts={}\n",
    "def addContact(name,phone):\n",
    "    if name not in contacts:\n",
    "        contacts[name]=phone\n",
    "        print(\"contact %s added\" %name)\n",
    "    else:\n",
    "        print(\"contact %s already exists\"%name)\n",
    "    return\n",
    "addContact(\"Sreekar\",9989678084)\n",
    "addContact(\"Roshan\",6969696969)\n",
    "addContact(\"Sreekar\",7873783483)\n",
    "def sc(name):\n",
    "    if name in contacts:\n",
    "        print(name, \":\", contacts[name])\n",
    "    else:\n",
    "        print(\"%s does not exist\"%name)\n",
    "    return\n",
    "sc(\"Sreekar\")\n",
    "sc(\"Roshan\")\n",
    "sc(\"mohit\")\n",
    "def deleteContact(name):\n",
    "    if name in contacts:\n",
    "        del contacts[name]\n",
    "        print(name,\" : is deleted from contacts\")\n",
    "    else:\n",
    "        print(name,\"not exist in contacts\")\n",
    "    return\n",
    "deleteContact(\"Sreekar\")\n",
    "deleteContact(\"NAV\")\n",
    "def updateContacts(name,phone):\n",
    "    if name in contacts:\n",
    "        contacts[name]=phone\n",
    "        print(name,\": updated file with new number\")\n",
    "    else:\n",
    "        print(name,\"not exists in contacts\")\n",
    "    return\n",
    "updateContacts(\"Anil\",\"54554545454\")\n",
    "updateContacts(\"harsha\",\"655454545\")"
   ]
  },
  {
   "cell_type": "code",
   "execution_count": 15,
   "metadata": {},
   "outputs": [
    {
     "name": "stdout",
     "output_type": "stream",
     "text": [
      "2 Contacts added successfully\n"
     ]
    }
   ],
   "source": [
    "def importContacts(newContacts):\n",
    "    contacts.update(newContacts)\n",
    "    print(len(newContacts.keys()),\"Contacts added successfully\")\n",
    "    return\n",
    "newContacts={'Dinesh':123456,'Ajay':98745612}\n",
    "importContacts(newContacts)"
   ]
  },
  {
   "cell_type": "code",
   "execution_count": 7,
   "metadata": {},
   "outputs": [
    {
     "name": "stdout",
     "output_type": "stream",
     "text": [
      "1 2 3 4\n"
     ]
    }
   ],
   "source": [
    "lst=[1,2,3,4]\n",
    "print(\"%d %d %d %d\"%(lst[0],lst[1],lst[2],lst[3]))"
   ]
  },
  {
   "cell_type": "code",
   "execution_count": null,
   "metadata": {},
   "outputs": [],
   "source": []
  }
 ],
 "metadata": {
  "kernelspec": {
   "display_name": "Python 3",
   "language": "python",
   "name": "python3"
  },
  "language_info": {
   "codemirror_mode": {
    "name": "ipython",
    "version": 3
   },
   "file_extension": ".py",
   "mimetype": "text/x-python",
   "name": "python",
   "nbconvert_exporter": "python",
   "pygments_lexer": "ipython3",
   "version": "3.7.3"
  }
 },
 "nbformat": 4,
 "nbformat_minor": 2
}
